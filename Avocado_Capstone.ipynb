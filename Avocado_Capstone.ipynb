{
  "nbformat": 4,
  "nbformat_minor": 0,
  "metadata": {
    "colab": {
      "name": "Avocado Capstone.ipynb",
      "provenance": []
    },
    "kernelspec": {
      "name": "python3",
      "display_name": "Python 3"
    },
    "language_info": {
      "name": "python"
    }
  },
  "cells": [
    {
      "cell_type": "markdown",
      "metadata": {
        "id": "_eonAbF50QjX"
      },
      "source": [
        "#Introduction"
      ]
    },
    {
      "cell_type": "markdown",
      "metadata": {
        "id": "ELcn6P1C0TEA"
      },
      "source": [
        "Everyone know techies love their avocado toast, but is that love reflected in sales data? This is an analysis of avocado sales data in the United States from January 2015 through November 2020. The Data was collected by the Haas Avocado Board, and compiled on [Kaggle](https://www.kaggle.com/timmate/avocado-prices-2020). I will be using statistical testing to analyze the effects of region on price and percent change in volume, while also looking into the differences between avocado types. "
      ]
    },
    {
      "cell_type": "markdown",
      "metadata": {
        "id": "1n7_MgnEafY8"
      },
      "source": [
        "#Import Libraries and Load Dataset"
      ]
    },
    {
      "cell_type": "code",
      "metadata": {
        "id": "3QriEDC4aYrF"
      },
      "source": [
        "#import libraries\n",
        "from datetime import datetime\n",
        "import numpy as np\n",
        "import pandas as pd \n",
        "from scipy import stats\n",
        "import seaborn as sns\n",
        "from matplotlib import pyplot as plt\n",
        "%matplotlib inline\n",
        "from matplotlib.pyplot import figure"
      ],
      "execution_count": 58,
      "outputs": []
    },
    {
      "cell_type": "markdown",
      "metadata": {
        "id": "LmxA3jn0XAzg"
      },
      "source": [
        "Mount Google Drive "
      ]
    },
    {
      "cell_type": "code",
      "metadata": {
        "id": "mxzNexPhXAgN",
        "colab": {
          "base_uri": "https://localhost:8080/"
        },
        "outputId": "c241eaec-4db7-4726-da65-8fc494ad885a"
      },
      "source": [
        "from google.colab import drive\n",
        "drive.mount('/content/gdrive')"
      ],
      "execution_count": 59,
      "outputs": [
        {
          "output_type": "stream",
          "name": "stdout",
          "text": [
            "Drive already mounted at /content/gdrive; to attempt to forcibly remount, call drive.mount(\"/content/gdrive\", force_remount=True).\n"
          ]
        }
      ]
    },
    {
      "cell_type": "markdown",
      "metadata": {
        "id": "HFLqu6aTW5DS"
      },
      "source": [
        "Load avocado data csv"
      ]
    },
    {
      "cell_type": "code",
      "metadata": {
        "id": "N2Ln9M3IW2m5"
      },
      "source": [
        "df= pd.read_csv('/content/gdrive/My Drive/Colab Datasets/avocado_2020.csv')"
      ],
      "execution_count": 60,
      "outputs": []
    },
    {
      "cell_type": "markdown",
      "metadata": {
        "id": "QxbsCvp5laVX"
      },
      "source": [
        "#Exploring the Data"
      ]
    },
    {
      "cell_type": "code",
      "metadata": {
        "colab": {
          "base_uri": "https://localhost:8080/"
        },
        "id": "y5qlAG5-a7-h",
        "outputId": "0a88a72a-a208-43b8-9ad7-0c0da7430f04"
      },
      "source": [
        "df.shape"
      ],
      "execution_count": 61,
      "outputs": [
        {
          "output_type": "execute_result",
          "data": {
            "text/plain": [
              "(33045, 13)"
            ]
          },
          "metadata": {},
          "execution_count": 61
        }
      ]
    },
    {
      "cell_type": "code",
      "metadata": {
        "colab": {
          "base_uri": "https://localhost:8080/",
          "height": 206
        },
        "id": "hxKKOGPSayHd",
        "outputId": "9567b66b-3f79-46cf-9fe3-982760b623fc"
      },
      "source": [
        "df.head()"
      ],
      "execution_count": 62,
      "outputs": [
        {
          "output_type": "execute_result",
          "data": {
            "text/html": [
              "<div>\n",
              "<style scoped>\n",
              "    .dataframe tbody tr th:only-of-type {\n",
              "        vertical-align: middle;\n",
              "    }\n",
              "\n",
              "    .dataframe tbody tr th {\n",
              "        vertical-align: top;\n",
              "    }\n",
              "\n",
              "    .dataframe thead th {\n",
              "        text-align: right;\n",
              "    }\n",
              "</style>\n",
              "<table border=\"1\" class=\"dataframe\">\n",
              "  <thead>\n",
              "    <tr style=\"text-align: right;\">\n",
              "      <th></th>\n",
              "      <th>date</th>\n",
              "      <th>average_price</th>\n",
              "      <th>total_volume</th>\n",
              "      <th>4046</th>\n",
              "      <th>4225</th>\n",
              "      <th>4770</th>\n",
              "      <th>total_bags</th>\n",
              "      <th>small_bags</th>\n",
              "      <th>large_bags</th>\n",
              "      <th>xlarge_bags</th>\n",
              "      <th>type</th>\n",
              "      <th>year</th>\n",
              "      <th>geography</th>\n",
              "    </tr>\n",
              "  </thead>\n",
              "  <tbody>\n",
              "    <tr>\n",
              "      <th>0</th>\n",
              "      <td>2015-01-04</td>\n",
              "      <td>1.22</td>\n",
              "      <td>40873.28</td>\n",
              "      <td>2819.50</td>\n",
              "      <td>28287.42</td>\n",
              "      <td>49.90</td>\n",
              "      <td>9716.46</td>\n",
              "      <td>9186.93</td>\n",
              "      <td>529.53</td>\n",
              "      <td>0.0</td>\n",
              "      <td>conventional</td>\n",
              "      <td>2015</td>\n",
              "      <td>Albany</td>\n",
              "    </tr>\n",
              "    <tr>\n",
              "      <th>1</th>\n",
              "      <td>2015-01-04</td>\n",
              "      <td>1.79</td>\n",
              "      <td>1373.95</td>\n",
              "      <td>57.42</td>\n",
              "      <td>153.88</td>\n",
              "      <td>0.00</td>\n",
              "      <td>1162.65</td>\n",
              "      <td>1162.65</td>\n",
              "      <td>0.00</td>\n",
              "      <td>0.0</td>\n",
              "      <td>organic</td>\n",
              "      <td>2015</td>\n",
              "      <td>Albany</td>\n",
              "    </tr>\n",
              "    <tr>\n",
              "      <th>2</th>\n",
              "      <td>2015-01-04</td>\n",
              "      <td>1.00</td>\n",
              "      <td>435021.49</td>\n",
              "      <td>364302.39</td>\n",
              "      <td>23821.16</td>\n",
              "      <td>82.15</td>\n",
              "      <td>46815.79</td>\n",
              "      <td>16707.15</td>\n",
              "      <td>30108.64</td>\n",
              "      <td>0.0</td>\n",
              "      <td>conventional</td>\n",
              "      <td>2015</td>\n",
              "      <td>Atlanta</td>\n",
              "    </tr>\n",
              "    <tr>\n",
              "      <th>3</th>\n",
              "      <td>2015-01-04</td>\n",
              "      <td>1.76</td>\n",
              "      <td>3846.69</td>\n",
              "      <td>1500.15</td>\n",
              "      <td>938.35</td>\n",
              "      <td>0.00</td>\n",
              "      <td>1408.19</td>\n",
              "      <td>1071.35</td>\n",
              "      <td>336.84</td>\n",
              "      <td>0.0</td>\n",
              "      <td>organic</td>\n",
              "      <td>2015</td>\n",
              "      <td>Atlanta</td>\n",
              "    </tr>\n",
              "    <tr>\n",
              "      <th>4</th>\n",
              "      <td>2015-01-04</td>\n",
              "      <td>1.08</td>\n",
              "      <td>788025.06</td>\n",
              "      <td>53987.31</td>\n",
              "      <td>552906.04</td>\n",
              "      <td>39995.03</td>\n",
              "      <td>141136.68</td>\n",
              "      <td>137146.07</td>\n",
              "      <td>3990.61</td>\n",
              "      <td>0.0</td>\n",
              "      <td>conventional</td>\n",
              "      <td>2015</td>\n",
              "      <td>Baltimore/Washington</td>\n",
              "    </tr>\n",
              "  </tbody>\n",
              "</table>\n",
              "</div>"
            ],
            "text/plain": [
              "         date  average_price  ...  year             geography\n",
              "0  2015-01-04           1.22  ...  2015                Albany\n",
              "1  2015-01-04           1.79  ...  2015                Albany\n",
              "2  2015-01-04           1.00  ...  2015               Atlanta\n",
              "3  2015-01-04           1.76  ...  2015               Atlanta\n",
              "4  2015-01-04           1.08  ...  2015  Baltimore/Washington\n",
              "\n",
              "[5 rows x 13 columns]"
            ]
          },
          "metadata": {},
          "execution_count": 62
        }
      ]
    },
    {
      "cell_type": "markdown",
      "metadata": {
        "id": "xMpXK2JJFyDO"
      },
      "source": [
        "Check for null values"
      ]
    },
    {
      "cell_type": "code",
      "metadata": {
        "colab": {
          "base_uri": "https://localhost:8080/"
        },
        "id": "83wTebcldqRT",
        "outputId": "2947bda4-baf7-415e-b857-40b857fabe5f"
      },
      "source": [
        "df.isnull().sum()"
      ],
      "execution_count": 63,
      "outputs": [
        {
          "output_type": "execute_result",
          "data": {
            "text/plain": [
              "date             0\n",
              "average_price    0\n",
              "total_volume     0\n",
              "4046             0\n",
              "4225             0\n",
              "4770             0\n",
              "total_bags       0\n",
              "small_bags       0\n",
              "large_bags       0\n",
              "xlarge_bags      0\n",
              "type             0\n",
              "year             0\n",
              "geography        0\n",
              "dtype: int64"
            ]
          },
          "metadata": {},
          "execution_count": 63
        }
      ]
    },
    {
      "cell_type": "code",
      "metadata": {
        "colab": {
          "base_uri": "https://localhost:8080/"
        },
        "id": "rcdLfW3FH1Z0",
        "outputId": "be30233e-70bf-4403-f663-6b57c8a557be"
      },
      "source": [
        "df.info()"
      ],
      "execution_count": 64,
      "outputs": [
        {
          "output_type": "stream",
          "name": "stdout",
          "text": [
            "<class 'pandas.core.frame.DataFrame'>\n",
            "RangeIndex: 33045 entries, 0 to 33044\n",
            "Data columns (total 13 columns):\n",
            " #   Column         Non-Null Count  Dtype  \n",
            "---  ------         --------------  -----  \n",
            " 0   date           33045 non-null  object \n",
            " 1   average_price  33045 non-null  float64\n",
            " 2   total_volume   33045 non-null  float64\n",
            " 3   4046           33045 non-null  float64\n",
            " 4   4225           33045 non-null  float64\n",
            " 5   4770           33045 non-null  float64\n",
            " 6   total_bags     33045 non-null  float64\n",
            " 7   small_bags     33045 non-null  float64\n",
            " 8   large_bags     33045 non-null  float64\n",
            " 9   xlarge_bags    33045 non-null  float64\n",
            " 10  type           33045 non-null  object \n",
            " 11  year           33045 non-null  int64  \n",
            " 12  geography      33045 non-null  object \n",
            "dtypes: float64(9), int64(1), object(3)\n",
            "memory usage: 3.3+ MB\n"
          ]
        }
      ]
    },
    {
      "cell_type": "markdown",
      "metadata": {
        "id": "6EJOoFvV62ee"
      },
      "source": [
        "Change date from object to datetime"
      ]
    },
    {
      "cell_type": "code",
      "metadata": {
        "id": "ur5z88coY2VX"
      },
      "source": [
        "df['date']=df['date'].apply(lambda x: datetime.strptime(x,'%Y-%m-%d'))"
      ],
      "execution_count": 65,
      "outputs": []
    },
    {
      "cell_type": "markdown",
      "metadata": {
        "id": "GrZE_1XJIRsF"
      },
      "source": [
        "#Distributions of Column Data"
      ]
    },
    {
      "cell_type": "code",
      "metadata": {
        "colab": {
          "base_uri": "https://localhost:8080/"
        },
        "id": "lK_D73vb3Eux",
        "outputId": "3faedace-63eb-4ccf-8cea-36e9fc1b0d39"
      },
      "source": [
        "print(df['date'].min())\n",
        "print(df['date'].max())"
      ],
      "execution_count": 66,
      "outputs": [
        {
          "output_type": "stream",
          "name": "stdout",
          "text": [
            "2015-01-04 00:00:00\n",
            "2020-11-29 00:00:00\n"
          ]
        }
      ]
    },
    {
      "cell_type": "code",
      "metadata": {
        "colab": {
          "base_uri": "https://localhost:8080/",
          "height": 297
        },
        "id": "Ql8Bvox_CUDI",
        "outputId": "ed08feff-8652-4ab2-b00d-edf2a8e6ec38"
      },
      "source": [
        "sns.histplot(df['average_price'],kde='true')"
      ],
      "execution_count": 67,
      "outputs": [
        {
          "output_type": "execute_result",
          "data": {
            "text/plain": [
              "<matplotlib.axes._subplots.AxesSubplot at 0x7f4502d26b10>"
            ]
          },
          "metadata": {},
          "execution_count": 67
        },
        {
          "output_type": "display_data",
          "data": {
            "image/png": "[encoded data removed]",
            "text/plain": [
              "<Figure size 432x288 with 1 Axes>"
            ]
          },
          "metadata": {
            "needs_background": "light"
          }
        }
      ]
    },
    {
      "cell_type": "markdown",
      "source": [
        "Average price looks to be approximatly normal"
      ],
      "metadata": {
        "id": "gxBMK0KG7GQI"
      }
    },
    {
      "cell_type": "code",
      "metadata": {
        "colab": {
          "base_uri": "https://localhost:8080/",
          "height": 514
        },
        "id": "ABxaw1xkh6pF",
        "outputId": "5aecb33c-c3c1-4854-eb02-a823f692a204"
      },
      "source": [
        "figure(figsize=(5,8))\n",
        "sns.histplot(y='geography',data=df)"
      ],
      "execution_count": 68,
      "outputs": [
        {
          "output_type": "execute_result",
          "data": {
            "text/plain": [
              "<matplotlib.axes._subplots.AxesSubplot at 0x7f4502d26090>"
            ]
          },
          "metadata": {},
          "execution_count": 68
        },
        {
          "output_type": "display_data",
          "data": {
            "image/png": "[encoded data removed]",
            "text/plain": [
              "<Figure size 360x576 with 1 Axes>"
            ]
          },
          "metadata": {
            "needs_background": "light"
          }
        }
      ]
    },
    {
      "cell_type": "code",
      "metadata": {
        "colab": {
          "base_uri": "https://localhost:8080/",
          "height": 300
        },
        "id": "uAFwOOL3OiEO",
        "outputId": "f103eff3-23ad-41ea-a3ce-04646d691a08"
      },
      "source": [
        "sns.histplot(df['year'])"
      ],
      "execution_count": 69,
      "outputs": [
        {
          "output_type": "execute_result",
          "data": {
            "text/plain": [
              "<matplotlib.axes._subplots.AxesSubplot at 0x7f4502a9a850>"
            ]
          },
          "metadata": {},
          "execution_count": 69
        },
        {
          "output_type": "display_data",
          "data": {
            "image/png": "[encoded data removed]",
            "text/plain": [
              "<Figure size 432x288 with 1 Axes>"
            ]
          },
          "metadata": {
            "needs_background": "light"
          }
        }
      ]
    },
    {
      "cell_type": "markdown",
      "metadata": {
        "id": "EUW_CxN0KlPP"
      },
      "source": [
        "Now lets look into the two avocado types"
      ]
    },
    {
      "cell_type": "code",
      "metadata": {
        "colab": {
          "base_uri": "https://localhost:8080/",
          "height": 296
        },
        "id": "EYjK75mqKt6u",
        "outputId": "40612dca-d838-4672-d634-aaf3f6e86016"
      },
      "source": [
        "sns.histplot(df['type'])"
      ],
      "execution_count": 70,
      "outputs": [
        {
          "output_type": "execute_result",
          "data": {
            "text/plain": [
              "<matplotlib.axes._subplots.AxesSubplot at 0x7f450286bb50>"
            ]
          },
          "metadata": {},
          "execution_count": 70
        },
        {
          "output_type": "display_data",
          "data": {
            "image/png": "[encoded data removed]",
            "text/plain": [
              "<Figure size 432x288 with 1 Axes>"
            ]
          },
          "metadata": {
            "needs_background": "light"
          }
        }
      ]
    },
    {
      "cell_type": "code",
      "metadata": {
        "id": "EbUQSP4vvkaH",
        "colab": {
          "base_uri": "https://localhost:8080/",
          "height": 297
        },
        "outputId": "ea265a04-3267-4347-f7e9-08c057f67ca5"
      },
      "source": [
        "sns.boxplot(x='average_price',y='type',data=df)"
      ],
      "execution_count": 71,
      "outputs": [
        {
          "output_type": "execute_result",
          "data": {
            "text/plain": [
              "<matplotlib.axes._subplots.AxesSubplot at 0x7f450283bd50>"
            ]
          },
          "metadata": {},
          "execution_count": 71
        },
        {
          "output_type": "display_data",
          "data": {
            "image/png": "[encoded data removed]",
            "text/plain": [
              "<Figure size 432x288 with 1 Axes>"
            ]
          },
          "metadata": {
            "needs_background": "light"
          }
        }
      ]
    },
    {
      "cell_type": "code",
      "metadata": {
        "colab": {
          "base_uri": "https://localhost:8080/",
          "height": 307
        },
        "id": "i8-IlmouL_Hs",
        "outputId": "0c77ffad-e11e-4183-880d-9b47db3317ed"
      },
      "source": [
        "sns.barplot(x='type',y='total_volume',data=df)"
      ],
      "execution_count": 72,
      "outputs": [
        {
          "output_type": "execute_result",
          "data": {
            "text/plain": [
              "<matplotlib.axes._subplots.AxesSubplot at 0x7f4502770f10>"
            ]
          },
          "metadata": {},
          "execution_count": 72
        },
        {
          "output_type": "display_data",
          "data": {
            "image/png": "[encoded data removed]",
            "text/plain": [
              "<Figure size 432x288 with 1 Axes>"
            ]
          },
          "metadata": {
            "needs_background": "light"
          }
        }
      ]
    },
    {
      "cell_type": "markdown",
      "metadata": {
        "id": "KzQbKxBcgkU-"
      },
      "source": [
        "#Create New Dataframes to Aggregate Data"
      ]
    },
    {
      "cell_type": "markdown",
      "metadata": {
        "id": "N7VBEvGxhUvK"
      },
      "source": [
        "Create lists for tech and non tech cities as defined by builtin.com/tech-hubs\n",
        "\n"
      ]
    },
    {
      "cell_type": "code",
      "metadata": {
        "id": "i7189PwLg-1j"
      },
      "source": [
        "tech_list=['Atlanta','Baltimore/Washington','Boston','Chicago','Dallas/Ft. Worth','Denver','Los Angeles','San Diego','San Francisco','Seattle']"
      ],
      "execution_count": 73,
      "outputs": []
    },
    {
      "cell_type": "code",
      "metadata": {
        "id": "Vrq8B5dNgSch"
      },
      "source": [
        "ntech_list=['Albany','Boise','Buffalo/Rochester','Charlotte','Cincinnati/Dayton','Columbus','Detroit','Grand Rapids','Harrisburg/Scranton','Hartford/Springfield','Houston','Indianapolis','Jacksonville','Las Vegas','Louisville','Miami/Ft. Lauderdale','Nashville','New Orleans/Mobile','Orlando','Philadelphia','Phoenix/Tucson','Pittsburgh','Portland','Raleigh/Greensboro','Richmond/Norfolk','Roanoke','Sacramento','Spokane','St. Louis','Syracuse','Tampa']"
      ],
      "execution_count": 74,
      "outputs": []
    },
    {
      "cell_type": "markdown",
      "metadata": {
        "id": "veQNYeddsFLf"
      },
      "source": [
        "Create tech data frame for sales in a tech hub as listed by builtin.com/tech-hubs and a non tech data frame for sales in non tech hub cities"
      ]
    },
    {
      "cell_type": "code",
      "metadata": {
        "id": "Ca-nmK3Jp7fN"
      },
      "source": [
        "tech_df=df[df['geography'].isin(tech_list)]"
      ],
      "execution_count": 75,
      "outputs": []
    },
    {
      "cell_type": "code",
      "metadata": {
        "id": "OxHlmZwNsbSK"
      },
      "source": [
        "ntech=df[df['geography'].isin(ntech_list)]"
      ],
      "execution_count": 76,
      "outputs": []
    },
    {
      "cell_type": "markdown",
      "metadata": {
        "id": "WD7iwy8kusi9"
      },
      "source": [
        "Now split each dataframe by type\n"
      ]
    },
    {
      "cell_type": "code",
      "metadata": {
        "id": "lDt9IBo1vs_T"
      },
      "source": [
        "con_tech=tech_df[tech_df['type']=='conventional']"
      ],
      "execution_count": 77,
      "outputs": []
    },
    {
      "cell_type": "code",
      "metadata": {
        "id": "ETFEwET7v3ix"
      },
      "source": [
        "org_tech=tech_df[tech_df['type']=='organic']"
      ],
      "execution_count": 78,
      "outputs": []
    },
    {
      "cell_type": "code",
      "metadata": {
        "id": "rMZ1yVZpv6WL"
      },
      "source": [
        "con_ntech=ntech[ntech['type']=='conventional']"
      ],
      "execution_count": 79,
      "outputs": []
    },
    {
      "cell_type": "code",
      "metadata": {
        "id": "zL75HOtLwJE6"
      },
      "source": [
        "org_ntech=ntech[ntech['type']=='organic']"
      ],
      "execution_count": 80,
      "outputs": []
    },
    {
      "cell_type": "markdown",
      "metadata": {
        "id": "CIKUy7rHY2sd"
      },
      "source": [
        "Lets take a quick look at our new distributions"
      ]
    },
    {
      "cell_type": "code",
      "metadata": {
        "colab": {
          "base_uri": "https://localhost:8080/",
          "height": 300
        },
        "id": "EUOC5KYa9hc5",
        "outputId": "06873bbf-d295-4699-e5b0-3ecf965879e5"
      },
      "source": [
        "sns.histplot(con_tech['average_price'],kde=True)"
      ],
      "execution_count": 81,
      "outputs": [
        {
          "output_type": "execute_result",
          "data": {
            "text/plain": [
              "<matplotlib.axes._subplots.AxesSubplot at 0x7f4502740750>"
            ]
          },
          "metadata": {},
          "execution_count": 81
        },
        {
          "output_type": "display_data",
          "data": {
            "image/png": "[encoded data removed]",
            "text/plain": [
              "<Figure size 432x288 with 1 Axes>"
            ]
          },
          "metadata": {
            "needs_background": "light"
          }
        }
      ]
    },
    {
      "cell_type": "code",
      "metadata": {
        "colab": {
          "base_uri": "https://localhost:8080/",
          "height": 297
        },
        "id": "7BjhtUHN2BQK",
        "outputId": "b829db0b-f030-4f69-f321-d9565566d4e1"
      },
      "source": [
        "sns.histplot(con_ntech['average_price'],kde=True)"
      ],
      "execution_count": 82,
      "outputs": [
        {
          "output_type": "execute_result",
          "data": {
            "text/plain": [
              "<matplotlib.axes._subplots.AxesSubplot at 0x7f450263ae50>"
            ]
          },
          "metadata": {},
          "execution_count": 82
        },
        {
          "output_type": "display_data",
          "data": {
            "image/png": "[encoded data removed]",
            "text/plain": [
              "<Figure size 432x288 with 1 Axes>"
            ]
          },
          "metadata": {
            "needs_background": "light"
          }
        }
      ]
    },
    {
      "cell_type": "code",
      "metadata": {
        "colab": {
          "base_uri": "https://localhost:8080/",
          "height": 297
        },
        "id": "ockN3MrVSJpL",
        "outputId": "d9264680-07eb-481d-da0f-bb7866c70467"
      },
      "source": [
        "sns.histplot(org_tech['average_price'],kde=True)"
      ],
      "execution_count": 83,
      "outputs": [
        {
          "output_type": "execute_result",
          "data": {
            "text/plain": [
              "<matplotlib.axes._subplots.AxesSubplot at 0x7f45026a4450>"
            ]
          },
          "metadata": {},
          "execution_count": 83
        },
        {
          "output_type": "display_data",
          "data": {
            "image/png": "[encoded data removed]",
            "text/plain": [
              "<Figure size 432x288 with 1 Axes>"
            ]
          },
          "metadata": {
            "needs_background": "light"
          }
        }
      ]
    },
    {
      "cell_type": "code",
      "metadata": {
        "colab": {
          "base_uri": "https://localhost:8080/",
          "height": 297
        },
        "id": "VTmXfCCDSL5X",
        "outputId": "2ff129d0-9a77-4733-964c-cb8523193d1f"
      },
      "source": [
        "sns.histplot(org_ntech['average_price'],kde=True)"
      ],
      "execution_count": 84,
      "outputs": [
        {
          "output_type": "execute_result",
          "data": {
            "text/plain": [
              "<matplotlib.axes._subplots.AxesSubplot at 0x7f4502458690>"
            ]
          },
          "metadata": {},
          "execution_count": 84
        },
        {
          "output_type": "display_data",
          "data": {
            "image/png": "[encoded data removed]",
            "text/plain": [
              "<Figure size 432x288 with 1 Axes>"
            ]
          },
          "metadata": {
            "needs_background": "light"
          }
        }
      ]
    },
    {
      "cell_type": "markdown",
      "source": [
        "All distributions are approximately normal, allowing us to use Welch's T-Test"
      ],
      "metadata": {
        "id": "8Rg1ciKw8FSb"
      }
    },
    {
      "cell_type": "markdown",
      "metadata": {
        "id": "M_Z1zGCcuee8"
      },
      "source": [
        "#Is There a Significant Difference in Average Price Between Tech and Non-Tech Cities?"
      ]
    },
    {
      "cell_type": "markdown",
      "metadata": {
        "id": "XlevtzssQKuM"
      },
      "source": [
        "$H_0$ : There is no significant difference in conventional avocado average price between tech and non-tech cities."
      ]
    },
    {
      "cell_type": "markdown",
      "metadata": {
        "id": "6SuCYJCkQ6vU"
      },
      "source": [
        "$H_a$ : There is a significant difference in conventional avocado average price between tech and non-tech cities."
      ]
    },
    {
      "cell_type": "code",
      "metadata": {
        "colab": {
          "base_uri": "https://localhost:8080/"
        },
        "id": "-LWisORtusPm",
        "outputId": "cfd3c40b-dd51-486c-8ad1-1c7301efa20c"
      },
      "source": [
        "stats.ttest_ind(con_tech['average_price'],con_ntech['average_price'],equal_var=False)"
      ],
      "execution_count": 85,
      "outputs": [
        {
          "output_type": "execute_result",
          "data": {
            "text/plain": [
              "Ttest_indResult(statistic=6.784666986505149, pvalue=1.3115344860690435e-11)"
            ]
          },
          "metadata": {},
          "execution_count": 85
        }
      ]
    },
    {
      "cell_type": "markdown",
      "metadata": {
        "id": "9YaEvw-BReaP"
      },
      "source": [
        "We reject the null hypothesis that there is no significant difference in conventional avocado average price between tech and non-tech cities. This difference is significant as the p value is well below 0.05"
      ]
    },
    {
      "cell_type": "markdown",
      "metadata": {
        "id": "jCpFB3d7m0Qj"
      },
      "source": [
        "\n",
        "\n",
        "---\n",
        "\n"
      ]
    },
    {
      "cell_type": "markdown",
      "metadata": {
        "id": "jxx3--82RzTU"
      },
      "source": [
        "$H_0$ : There is no significant difference in organic avocado average price between tech and non-tech cities."
      ]
    },
    {
      "cell_type": "markdown",
      "metadata": {
        "id": "Xn-YKenhRzTU"
      },
      "source": [
        "$H_a$ : There is a significant difference in organic avocado average price between tech and non-tech cities."
      ]
    },
    {
      "cell_type": "code",
      "metadata": {
        "colab": {
          "base_uri": "https://localhost:8080/"
        },
        "id": "brBDbfVq7e3R",
        "outputId": "3547171d-f31e-48eb-f2c2-3ed92cfcfd3d"
      },
      "source": [
        "stats.ttest_ind(org_tech['average_price'],org_ntech['average_price'],equal_var=False)"
      ],
      "execution_count": 86,
      "outputs": [
        {
          "output_type": "execute_result",
          "data": {
            "text/plain": [
              "Ttest_indResult(statistic=9.54068291568152, pvalue=2.1642675204654786e-21)"
            ]
          },
          "metadata": {},
          "execution_count": 86
        }
      ]
    },
    {
      "cell_type": "markdown",
      "metadata": {
        "id": "GTHPZhA3bbVj"
      },
      "source": [
        "We reject the null hypothesis that there is no significant difference in organic avocado average price between tech and non-tech cities. This difference is significant as the p value is well below 0.05"
      ]
    },
    {
      "cell_type": "markdown",
      "metadata": {
        "id": "6L6fJpNWOcsh"
      },
      "source": [
        "We can see that tech cities pay more for both types of avocados, but the difference in price is larger for organic avocados "
      ]
    },
    {
      "cell_type": "markdown",
      "metadata": {
        "id": "yikCfwxaU5s0"
      },
      "source": [
        "#Is There a Significant Difference in Percent Change of Volume Between Avocado Types in Tech Cities?"
      ]
    },
    {
      "cell_type": "markdown",
      "metadata": {
        "id": "AHQpv6iEQe7v"
      },
      "source": [
        "To calculate percent change we need to create a new dataframe from each avocado type and sum total volume by date. After that we can calculate the percent change in volume and compare."
      ]
    },
    {
      "cell_type": "code",
      "metadata": {
        "id": "kZCvvFciU7i6"
      },
      "source": [
        "#Conventional Avocados\n",
        "temp_ct= con_tech[['date','total_volume']]\n",
        "grouped_ct=temp_ct.groupby(['date']).sum()"
      ],
      "execution_count": 87,
      "outputs": []
    },
    {
      "cell_type": "code",
      "metadata": {
        "id": "X-xeiD-Ok3JU"
      },
      "source": [
        "#Organic Avocados \n",
        "temp_ot= org_tech[['date','total_volume']]\n",
        "grouped_ot=temp_ot.groupby(['date']).sum()"
      ],
      "execution_count": 88,
      "outputs": []
    },
    {
      "cell_type": "markdown",
      "metadata": {
        "id": "mi8Tkw2Wgnr7"
      },
      "source": [
        "Create a scatterplot with the newly grouped data to look for any trends"
      ]
    },
    {
      "cell_type": "code",
      "metadata": {
        "colab": {
          "base_uri": "https://localhost:8080/",
          "height": 0
        },
        "id": "zxVXEXxAbE_j",
        "outputId": "05ca2b24-0054-4e22-b602-0919d1b98cce"
      },
      "source": [
        "figure(figsize=(5,5))\n",
        "sns.scatterplot(x='date',y='total_volume',data=grouped_ct)"
      ],
      "execution_count": 89,
      "outputs": [
        {
          "output_type": "execute_result",
          "data": {
            "text/plain": [
              "<matplotlib.axes._subplots.AxesSubplot at 0x7f45027684d0>"
            ]
          },
          "metadata": {},
          "execution_count": 89
        },
        {
          "output_type": "display_data",
          "data": {
            "image/png": "[encoded data removed]",
            "text/plain": [
              "<Figure size 360x360 with 1 Axes>"
            ]
          },
          "metadata": {
            "needs_background": "light"
          }
        }
      ]
    },
    {
      "cell_type": "markdown",
      "metadata": {
        "id": "nVdW7ihMg6FW"
      },
      "source": [
        "We see a possible trend of increasing volume for conventional avocados, what about organic?"
      ]
    },
    {
      "cell_type": "code",
      "metadata": {
        "colab": {
          "base_uri": "https://localhost:8080/",
          "height": 0
        },
        "id": "1_PDMmNElNg9",
        "outputId": "feec9ff3-eeda-46f1-b69f-d2b65928d841"
      },
      "source": [
        "figure(figsize=(5,5))\n",
        "sns.scatterplot(x='date',y='total_volume',data=grouped_ot)"
      ],
      "execution_count": 90,
      "outputs": [
        {
          "output_type": "execute_result",
          "data": {
            "text/plain": [
              "<matplotlib.axes._subplots.AxesSubplot at 0x7f4502306950>"
            ]
          },
          "metadata": {},
          "execution_count": 90
        },
        {
          "output_type": "display_data",
          "data": {
            "image/png": "[encoded data removed]",
            "text/plain": [
              "<Figure size 360x360 with 1 Axes>"
            ]
          },
          "metadata": {
            "needs_background": "light"
          }
        }
      ]
    },
    {
      "cell_type": "markdown",
      "metadata": {
        "id": "5RxFZggAlS6h"
      },
      "source": [
        "To the naked eye it looks like organic avocados have a stronger trend of increasing volume."
      ]
    },
    {
      "cell_type": "markdown",
      "metadata": {
        "id": "bGYHbP34iO1D"
      },
      "source": [
        "Now calculate the percent change by week"
      ]
    },
    {
      "cell_type": "code",
      "metadata": {
        "id": "1m4HYkazQ3iG"
      },
      "source": [
        "#Starting with conventional\n",
        "pct_ct=grouped_ct.pct_change()"
      ],
      "execution_count": 91,
      "outputs": []
    },
    {
      "cell_type": "code",
      "metadata": {
        "id": "doI2HxKhmjaM"
      },
      "source": [
        "#Now with organic\n",
        "pct_ot=grouped_ot.pct_change()"
      ],
      "execution_count": 92,
      "outputs": []
    },
    {
      "cell_type": "code",
      "metadata": {
        "colab": {
          "base_uri": "https://localhost:8080/",
          "height": 0
        },
        "id": "AKLD0_bVqW0E",
        "outputId": "3d1db4bc-8a17-4717-b7eb-1237538bc584"
      },
      "source": [
        "pct_ct.head(5)"
      ],
      "execution_count": 93,
      "outputs": [
        {
          "output_type": "execute_result",
          "data": {
            "text/html": [
              "<div>\n",
              "<style scoped>\n",
              "    .dataframe tbody tr th:only-of-type {\n",
              "        vertical-align: middle;\n",
              "    }\n",
              "\n",
              "    .dataframe tbody tr th {\n",
              "        vertical-align: top;\n",
              "    }\n",
              "\n",
              "    .dataframe thead th {\n",
              "        text-align: right;\n",
              "    }\n",
              "</style>\n",
              "<table border=\"1\" class=\"dataframe\">\n",
              "  <thead>\n",
              "    <tr style=\"text-align: right;\">\n",
              "      <th></th>\n",
              "      <th>total_volume</th>\n",
              "    </tr>\n",
              "    <tr>\n",
              "      <th>date</th>\n",
              "      <th></th>\n",
              "    </tr>\n",
              "  </thead>\n",
              "  <tbody>\n",
              "    <tr>\n",
              "      <th>2015-01-04</th>\n",
              "      <td>NaN</td>\n",
              "    </tr>\n",
              "    <tr>\n",
              "      <th>2015-01-11</th>\n",
              "      <td>-0.014827</td>\n",
              "    </tr>\n",
              "    <tr>\n",
              "      <th>2015-01-18</th>\n",
              "      <td>-0.015754</td>\n",
              "    </tr>\n",
              "    <tr>\n",
              "      <th>2015-01-25</th>\n",
              "      <td>-0.091831</td>\n",
              "    </tr>\n",
              "    <tr>\n",
              "      <th>2015-02-01</th>\n",
              "      <td>0.608187</td>\n",
              "    </tr>\n",
              "  </tbody>\n",
              "</table>\n",
              "</div>"
            ],
            "text/plain": [
              "            total_volume\n",
              "date                    \n",
              "2015-01-04           NaN\n",
              "2015-01-11     -0.014827\n",
              "2015-01-18     -0.015754\n",
              "2015-01-25     -0.091831\n",
              "2015-02-01      0.608187"
            ]
          },
          "metadata": {},
          "execution_count": 93
        }
      ]
    },
    {
      "cell_type": "markdown",
      "metadata": {
        "id": "sJY-PcKuuxaJ"
      },
      "source": [
        "Looking at our result we need to cleanup our resulting dataframe"
      ]
    },
    {
      "cell_type": "markdown",
      "metadata": {
        "id": "kxHm7ESUqCyz"
      },
      "source": [
        "Change total_volume column to percent change"
      ]
    },
    {
      "cell_type": "code",
      "metadata": {
        "id": "agK6dNXjqKEa"
      },
      "source": [
        "pct_ct.rename(columns={'total_volume':'percent_change'},inplace=True)\n",
        "pct_ot.rename(columns={'total_volume':'percent_change'},inplace=True)"
      ],
      "execution_count": 94,
      "outputs": []
    },
    {
      "cell_type": "markdown",
      "metadata": {
        "id": "b_yiAYn3pD65"
      },
      "source": [
        "Taking percent change creates a null value for the first entry so we will drop that value"
      ]
    },
    {
      "cell_type": "code",
      "metadata": {
        "id": "thcWMtj3nmaX"
      },
      "source": [
        "pct_ct=pct_ct.dropna()\n",
        "pct_ot=pct_ot.dropna()"
      ],
      "execution_count": 95,
      "outputs": []
    },
    {
      "cell_type": "markdown",
      "metadata": {
        "id": "ULPV1sbBudxB"
      },
      "source": [
        "Multiply by 100 to convert from decimal to percent"
      ]
    },
    {
      "cell_type": "code",
      "metadata": {
        "id": "Gnye7gvxudIm",
        "colab": {
          "base_uri": "https://localhost:8080/"
        },
        "outputId": "13501022-c31b-4063-98f7-6fdf0b444c13"
      },
      "source": [
        "pct_ct['percent_change']=100*pct_ct['percent_change']\n",
        "pct_ot['percent_change']=100*pct_ot['percent_change']"
      ],
      "execution_count": 96,
      "outputs": [
        {
          "output_type": "stream",
          "name": "stderr",
          "text": [
            "/usr/local/lib/python3.7/dist-packages/ipykernel_launcher.py:1: SettingWithCopyWarning: \n",
            "A value is trying to be set on a copy of a slice from a DataFrame.\n",
            "Try using .loc[row_indexer,col_indexer] = value instead\n",
            "\n",
            "See the caveats in the documentation: https://pandas.pydata.org/pandas-docs/stable/user_guide/indexing.html#returning-a-view-versus-a-copy\n",
            "  \"\"\"Entry point for launching an IPython kernel.\n"
          ]
        }
      ]
    },
    {
      "cell_type": "code",
      "metadata": {
        "colab": {
          "base_uri": "https://localhost:8080/",
          "height": 0
        },
        "id": "0fWpzEj4wfb_",
        "outputId": "e8489b6c-2e75-42f3-8592-b9e60cef5a14"
      },
      "source": [
        "pct_ct.describe()"
      ],
      "execution_count": 97,
      "outputs": [
        {
          "output_type": "execute_result",
          "data": {
            "text/html": [
              "<div>\n",
              "<style scoped>\n",
              "    .dataframe tbody tr th:only-of-type {\n",
              "        vertical-align: middle;\n",
              "    }\n",
              "\n",
              "    .dataframe tbody tr th {\n",
              "        vertical-align: top;\n",
              "    }\n",
              "\n",
              "    .dataframe thead th {\n",
              "        text-align: right;\n",
              "    }\n",
              "</style>\n",
              "<table border=\"1\" class=\"dataframe\">\n",
              "  <thead>\n",
              "    <tr style=\"text-align: right;\">\n",
              "      <th></th>\n",
              "      <th>percent_change</th>\n",
              "    </tr>\n",
              "  </thead>\n",
              "  <tbody>\n",
              "    <tr>\n",
              "      <th>count</th>\n",
              "      <td>305.000000</td>\n",
              "    </tr>\n",
              "    <tr>\n",
              "      <th>mean</th>\n",
              "      <td>0.884810</td>\n",
              "    </tr>\n",
              "    <tr>\n",
              "      <th>std</th>\n",
              "      <td>13.936903</td>\n",
              "    </tr>\n",
              "    <tr>\n",
              "      <th>min</th>\n",
              "      <td>-32.575081</td>\n",
              "    </tr>\n",
              "    <tr>\n",
              "      <th>25%</th>\n",
              "      <td>-6.334737</td>\n",
              "    </tr>\n",
              "    <tr>\n",
              "      <th>50%</th>\n",
              "      <td>-1.213810</td>\n",
              "    </tr>\n",
              "    <tr>\n",
              "      <th>75%</th>\n",
              "      <td>5.197450</td>\n",
              "    </tr>\n",
              "    <tr>\n",
              "      <th>max</th>\n",
              "      <td>62.425063</td>\n",
              "    </tr>\n",
              "  </tbody>\n",
              "</table>\n",
              "</div>"
            ],
            "text/plain": [
              "       percent_change\n",
              "count      305.000000\n",
              "mean         0.884810\n",
              "std         13.936903\n",
              "min        -32.575081\n",
              "25%         -6.334737\n",
              "50%         -1.213810\n",
              "75%          5.197450\n",
              "max         62.425063"
            ]
          },
          "metadata": {},
          "execution_count": 97
        }
      ]
    },
    {
      "cell_type": "code",
      "metadata": {
        "colab": {
          "base_uri": "https://localhost:8080/",
          "height": 0
        },
        "id": "5kZrMxo8wvO6",
        "outputId": "aad28e61-5c93-4eb7-9e93-42de0af4037b"
      },
      "source": [
        "pct_ot.describe()"
      ],
      "execution_count": 98,
      "outputs": [
        {
          "output_type": "execute_result",
          "data": {
            "text/html": [
              "<div>\n",
              "<style scoped>\n",
              "    .dataframe tbody tr th:only-of-type {\n",
              "        vertical-align: middle;\n",
              "    }\n",
              "\n",
              "    .dataframe tbody tr th {\n",
              "        vertical-align: top;\n",
              "    }\n",
              "\n",
              "    .dataframe thead th {\n",
              "        text-align: right;\n",
              "    }\n",
              "</style>\n",
              "<table border=\"1\" class=\"dataframe\">\n",
              "  <thead>\n",
              "    <tr style=\"text-align: right;\">\n",
              "      <th></th>\n",
              "      <th>percent_change</th>\n",
              "    </tr>\n",
              "  </thead>\n",
              "  <tbody>\n",
              "    <tr>\n",
              "      <th>count</th>\n",
              "      <td>305.000000</td>\n",
              "    </tr>\n",
              "    <tr>\n",
              "      <th>mean</th>\n",
              "      <td>1.300509</td>\n",
              "    </tr>\n",
              "    <tr>\n",
              "      <th>std</th>\n",
              "      <td>14.686518</td>\n",
              "    </tr>\n",
              "    <tr>\n",
              "      <th>min</th>\n",
              "      <td>-28.605321</td>\n",
              "    </tr>\n",
              "    <tr>\n",
              "      <th>25%</th>\n",
              "      <td>-7.411246</td>\n",
              "    </tr>\n",
              "    <tr>\n",
              "      <th>50%</th>\n",
              "      <td>-0.101650</td>\n",
              "    </tr>\n",
              "    <tr>\n",
              "      <th>75%</th>\n",
              "      <td>7.809972</td>\n",
              "    </tr>\n",
              "    <tr>\n",
              "      <th>max</th>\n",
              "      <td>72.802202</td>\n",
              "    </tr>\n",
              "  </tbody>\n",
              "</table>\n",
              "</div>"
            ],
            "text/plain": [
              "       percent_change\n",
              "count      305.000000\n",
              "mean         1.300509\n",
              "std         14.686518\n",
              "min        -28.605321\n",
              "25%         -7.411246\n",
              "50%         -0.101650\n",
              "75%          7.809972\n",
              "max         72.802202"
            ]
          },
          "metadata": {},
          "execution_count": 98
        }
      ]
    },
    {
      "cell_type": "markdown",
      "metadata": {
        "id": "WbM6rYIzm4kT"
      },
      "source": [
        "We can see that organic had a higher average percent change than organic, but was this difference significant? Use Welch's T-Test to check. "
      ]
    },
    {
      "cell_type": "markdown",
      "metadata": {
        "id": "dYylgmG5miX5"
      },
      "source": [
        "$H_0$ : There is no significant difference in average percent change of total volume between avocado types in tech cities"
      ]
    },
    {
      "cell_type": "markdown",
      "metadata": {
        "id": "-eaGpLuXmiX6"
      },
      "source": [
        "$H_a$ : There is a significant difference in average percent change of total volume between avocado types in tech cities"
      ]
    },
    {
      "cell_type": "code",
      "metadata": {
        "colab": {
          "base_uri": "https://localhost:8080/"
        },
        "id": "RdfGUR0Rm-ss",
        "outputId": "863e4528-1ffb-4f40-9b49-e19b47b1c024"
      },
      "source": [
        "stats.ttest_ind(pct_ot['percent_change'],pct_ct['percent_change'],equal_var=False)"
      ],
      "execution_count": 99,
      "outputs": [
        {
          "output_type": "execute_result",
          "data": {
            "text/plain": [
              "Ttest_indResult(statistic=0.3585697886101425, pvalue=0.7200417609618657)"
            ]
          },
          "metadata": {},
          "execution_count": 99
        }
      ]
    },
    {
      "cell_type": "markdown",
      "metadata": {
        "id": "pmkm0RIsmiX6"
      },
      "source": [
        "We fail to reject the null hypothesis that there is no significant difference in average percent change of total volume between avocado types in tech cities."
      ]
    },
    {
      "cell_type": "markdown",
      "metadata": {
        "id": "Wsxt8Eqsgfli"
      },
      "source": [
        "#Is There a Significant Difference in Percent Change of Volume Between Avocado Types in Non-Tech Cities?"
      ]
    },
    {
      "cell_type": "markdown",
      "metadata": {
        "id": "cN55W1zFhf5s"
      },
      "source": [
        "Repeat steps for non-tech"
      ]
    },
    {
      "cell_type": "code",
      "metadata": {
        "id": "wOvDC4O9gnk0"
      },
      "source": [
        "#Conventional Avocados\n",
        "temp_cn= con_ntech[['date','total_volume']]\n",
        "grouped_cn=temp_cn.groupby(['date']).sum()"
      ],
      "execution_count": 100,
      "outputs": []
    },
    {
      "cell_type": "code",
      "metadata": {
        "id": "SX3d-7khhxu5"
      },
      "source": [
        "#Organic Avocados \n",
        "temp_on= org_ntech[['date','total_volume']]\n",
        "grouped_on=temp_on.groupby(['date']).sum()"
      ],
      "execution_count": 101,
      "outputs": []
    },
    {
      "cell_type": "code",
      "metadata": {
        "colab": {
          "base_uri": "https://localhost:8080/",
          "height": 0
        },
        "id": "c3dklwfPicjc",
        "outputId": "b77ab13d-dab8-43fc-836e-0d1c422c88ff"
      },
      "source": [
        "figure(figsize=(5,5))\n",
        "sns.scatterplot(x='date',y='total_volume',data=grouped_cn)"
      ],
      "execution_count": 102,
      "outputs": [
        {
          "output_type": "execute_result",
          "data": {
            "text/plain": [
              "<matplotlib.axes._subplots.AxesSubplot at 0x7f450226c250>"
            ]
          },
          "metadata": {},
          "execution_count": 102
        },
        {
          "output_type": "display_data",
          "data": {
            "image/png": "[encoded data removed]",
            "text/plain": [
              "<Figure size 360x360 with 1 Axes>"
            ]
          },
          "metadata": {
            "needs_background": "light"
          }
        }
      ]
    },
    {
      "cell_type": "code",
      "metadata": {
        "colab": {
          "base_uri": "https://localhost:8080/",
          "height": 0
        },
        "id": "gunMc_dtipXs",
        "outputId": "0d1dea6c-cdb2-4a9b-8cb5-99af65831cb4"
      },
      "source": [
        "figure(figsize=(5,5))\n",
        "sns.scatterplot(x='date',y='total_volume',data=grouped_on)"
      ],
      "execution_count": 103,
      "outputs": [
        {
          "output_type": "execute_result",
          "data": {
            "text/plain": [
              "<matplotlib.axes._subplots.AxesSubplot at 0x7f4502216a90>"
            ]
          },
          "metadata": {},
          "execution_count": 103
        },
        {
          "output_type": "display_data",
          "data": {
            "image/png": "[encoded data removed]",
            "text/plain": [
              "<Figure size 360x360 with 1 Axes>"
            ]
          },
          "metadata": {
            "needs_background": "light"
          }
        }
      ]
    },
    {
      "cell_type": "code",
      "metadata": {
        "id": "zNckFRYHi2wK"
      },
      "source": [
        "pct_cn=grouped_cn.pct_change()"
      ],
      "execution_count": 104,
      "outputs": []
    },
    {
      "cell_type": "code",
      "metadata": {
        "id": "MXHqXI7ljZSg"
      },
      "source": [
        "pct_on=grouped_on.pct_change()"
      ],
      "execution_count": 105,
      "outputs": []
    },
    {
      "cell_type": "code",
      "metadata": {
        "id": "s4KZYDaHje7s"
      },
      "source": [
        "pct_cn.rename(columns={'total_volume':'percent_change'},inplace=True)\n",
        "pct_on.rename(columns={'total_volume':'percent_change'},inplace=True)"
      ],
      "execution_count": 106,
      "outputs": []
    },
    {
      "cell_type": "code",
      "metadata": {
        "id": "2pzkPnoXj8aD"
      },
      "source": [
        "pct_cn=pct_cn.dropna()\n",
        "pct_on=pct_on.dropna()"
      ],
      "execution_count": 107,
      "outputs": []
    },
    {
      "cell_type": "code",
      "metadata": {
        "id": "6fdqpdWikC_h"
      },
      "source": [
        "pct_cn['percent_change']=100*pct_cn['percent_change']\n",
        "pct_on['percent_change']=100*pct_on['percent_change']"
      ],
      "execution_count": 108,
      "outputs": []
    },
    {
      "cell_type": "code",
      "metadata": {
        "colab": {
          "base_uri": "https://localhost:8080/",
          "height": 0
        },
        "id": "vbgMyEghjnd6",
        "outputId": "7be6d6ad-804f-40c1-d298-71083c052b11"
      },
      "source": [
        "pct_cn.describe()"
      ],
      "execution_count": 109,
      "outputs": [
        {
          "output_type": "execute_result",
          "data": {
            "text/html": [
              "<div>\n",
              "<style scoped>\n",
              "    .dataframe tbody tr th:only-of-type {\n",
              "        vertical-align: middle;\n",
              "    }\n",
              "\n",
              "    .dataframe tbody tr th {\n",
              "        vertical-align: top;\n",
              "    }\n",
              "\n",
              "    .dataframe thead th {\n",
              "        text-align: right;\n",
              "    }\n",
              "</style>\n",
              "<table border=\"1\" class=\"dataframe\">\n",
              "  <thead>\n",
              "    <tr style=\"text-align: right;\">\n",
              "      <th></th>\n",
              "      <th>percent_change</th>\n",
              "    </tr>\n",
              "  </thead>\n",
              "  <tbody>\n",
              "    <tr>\n",
              "      <th>count</th>\n",
              "      <td>305.000000</td>\n",
              "    </tr>\n",
              "    <tr>\n",
              "      <th>mean</th>\n",
              "      <td>0.973075</td>\n",
              "    </tr>\n",
              "    <tr>\n",
              "      <th>std</th>\n",
              "      <td>14.163269</td>\n",
              "    </tr>\n",
              "    <tr>\n",
              "      <th>min</th>\n",
              "      <td>-35.200208</td>\n",
              "    </tr>\n",
              "    <tr>\n",
              "      <th>25%</th>\n",
              "      <td>-5.877152</td>\n",
              "    </tr>\n",
              "    <tr>\n",
              "      <th>50%</th>\n",
              "      <td>-0.537291</td>\n",
              "    </tr>\n",
              "    <tr>\n",
              "      <th>75%</th>\n",
              "      <td>4.841493</td>\n",
              "    </tr>\n",
              "    <tr>\n",
              "      <th>max</th>\n",
              "      <td>63.651224</td>\n",
              "    </tr>\n",
              "  </tbody>\n",
              "</table>\n",
              "</div>"
            ],
            "text/plain": [
              "       percent_change\n",
              "count      305.000000\n",
              "mean         0.973075\n",
              "std         14.163269\n",
              "min        -35.200208\n",
              "25%         -5.877152\n",
              "50%         -0.537291\n",
              "75%          4.841493\n",
              "max         63.651224"
            ]
          },
          "metadata": {},
          "execution_count": 109
        }
      ]
    },
    {
      "cell_type": "code",
      "metadata": {
        "colab": {
          "base_uri": "https://localhost:8080/",
          "height": 0
        },
        "id": "pmN8PnqRjq8Q",
        "outputId": "d8c08b44-dbae-4a7a-cab7-2337d284ad17"
      },
      "source": [
        "pct_on.describe()"
      ],
      "execution_count": 110,
      "outputs": [
        {
          "output_type": "execute_result",
          "data": {
            "text/html": [
              "<div>\n",
              "<style scoped>\n",
              "    .dataframe tbody tr th:only-of-type {\n",
              "        vertical-align: middle;\n",
              "    }\n",
              "\n",
              "    .dataframe tbody tr th {\n",
              "        vertical-align: top;\n",
              "    }\n",
              "\n",
              "    .dataframe thead th {\n",
              "        text-align: right;\n",
              "    }\n",
              "</style>\n",
              "<table border=\"1\" class=\"dataframe\">\n",
              "  <thead>\n",
              "    <tr style=\"text-align: right;\">\n",
              "      <th></th>\n",
              "      <th>percent_change</th>\n",
              "    </tr>\n",
              "  </thead>\n",
              "  <tbody>\n",
              "    <tr>\n",
              "      <th>count</th>\n",
              "      <td>305.000000</td>\n",
              "    </tr>\n",
              "    <tr>\n",
              "      <th>mean</th>\n",
              "      <td>1.280012</td>\n",
              "    </tr>\n",
              "    <tr>\n",
              "      <th>std</th>\n",
              "      <td>14.153219</td>\n",
              "    </tr>\n",
              "    <tr>\n",
              "      <th>min</th>\n",
              "      <td>-30.230371</td>\n",
              "    </tr>\n",
              "    <tr>\n",
              "      <th>25%</th>\n",
              "      <td>-6.264462</td>\n",
              "    </tr>\n",
              "    <tr>\n",
              "      <th>50%</th>\n",
              "      <td>0.000000</td>\n",
              "    </tr>\n",
              "    <tr>\n",
              "      <th>75%</th>\n",
              "      <td>8.484309</td>\n",
              "    </tr>\n",
              "    <tr>\n",
              "      <th>max</th>\n",
              "      <td>62.836801</td>\n",
              "    </tr>\n",
              "  </tbody>\n",
              "</table>\n",
              "</div>"
            ],
            "text/plain": [
              "       percent_change\n",
              "count      305.000000\n",
              "mean         1.280012\n",
              "std         14.153219\n",
              "min        -30.230371\n",
              "25%         -6.264462\n",
              "50%          0.000000\n",
              "75%          8.484309\n",
              "max         62.836801"
            ]
          },
          "metadata": {},
          "execution_count": 110
        }
      ]
    },
    {
      "cell_type": "markdown",
      "metadata": {
        "id": "KhSXPYA_kV-o"
      },
      "source": [
        "We again see that organic had a higher average percent change than organic, but was this difference significant? Use Welch's T-Test to check."
      ]
    },
    {
      "cell_type": "markdown",
      "metadata": {
        "id": "ZUDcZnhiluCX"
      },
      "source": [
        "$H_0$ : There is no significant difference in average percent change of total volume between avocado types in non-tech cities"
      ]
    },
    {
      "cell_type": "markdown",
      "metadata": {
        "id": "EQlYNhxdluCY"
      },
      "source": [
        "$H_a$ : There is a significant difference in average percent change of total volume between avocado types in non-tech cities"
      ]
    },
    {
      "cell_type": "code",
      "metadata": {
        "colab": {
          "base_uri": "https://localhost:8080/"
        },
        "id": "6nmA3Nj8kTy4",
        "outputId": "55c679cb-80b9-4e96-ff79-5aa8b64f6fa8"
      },
      "source": [
        "stats.ttest_ind(pct_on['percent_change'],pct_cn['percent_change'],equal_var=False)"
      ],
      "execution_count": 111,
      "outputs": [
        {
          "output_type": "execute_result",
          "data": {
            "text/plain": [
              "Ttest_indResult(statistic=0.26771668704922175, pvalue=0.7890081979492876)"
            ]
          },
          "metadata": {},
          "execution_count": 111
        }
      ]
    },
    {
      "cell_type": "markdown",
      "metadata": {
        "id": "1QYYK3xSmJe6"
      },
      "source": [
        "We fail to reject the null hypothesis that there is no significant difference in average percent change of total volume between avocado types in non tech cities."
      ]
    },
    {
      "cell_type": "markdown",
      "metadata": {
        "id": "1E_3yVeBtvHy"
      },
      "source": [
        "#Additional Findings From Percent Change Analysis"
      ]
    },
    {
      "cell_type": "markdown",
      "metadata": {
        "id": "4s-_b26OvYCV"
      },
      "source": [
        "What is the total percent change in volume for each group?"
      ]
    },
    {
      "cell_type": "code",
      "metadata": {
        "colab": {
          "base_uri": "https://localhost:8080/"
        },
        "id": "4MxlnxuGvJu2",
        "outputId": "2169b0c3-1468-4e51-e6fe-d8ac0036a511"
      },
      "source": [
        "sum_ct=pct_ct['percent_change'].sum()\n",
        "sum_ot=pct_ot['percent_change'].sum()\n",
        "sum_cn=pct_cn['percent_change'].sum()\n",
        "sum_on=pct_on['percent_change'].sum()\n",
        "print('Percent change in volume for conventional avocados in tech cities:'+str(sum_ct))\n",
        "print('Percent change in volume for organic avocados in tech cities:'+str(sum_ot))\n",
        "print('Percent change in volume for conventional avocados in non-tech cities:'+str(sum_cn))\n",
        "print('Percent change in volume for organic avocados in tech non-tech cities:'+str(sum_on))"
      ],
      "execution_count": 112,
      "outputs": [
        {
          "output_type": "stream",
          "name": "stdout",
          "text": [
            "Percent change in volume for conventional avocados in tech cities:269.8670108470674\n",
            "Percent change in volume for organic avocados in tech cities:396.6552694451149\n",
            "Percent change in volume for conventional avocados in non-tech cities:296.7878288551499\n",
            "Percent change in volume for organic avocados in tech non-tech cities:390.40376572276773\n"
          ]
        }
      ]
    },
    {
      "cell_type": "markdown",
      "metadata": {
        "id": "nIFPYcmQxUuw"
      },
      "source": [
        "Growth rate for volume is very similar between tech and non tech areas, while organic volume has grown faster than conventional "
      ]
    },
    {
      "cell_type": "markdown",
      "metadata": {
        "id": "dT1EuUTDzmyB"
      },
      "source": [
        "#Reccomendations"
      ]
    },
    {
      "cell_type": "markdown",
      "metadata": {
        "id": "iTN50sgn6As8"
      },
      "source": [
        "The primary use case for this analysis would be for businesses selling avocados and euntreprenuers looking to open avocado related businesses. \n",
        "\n",
        "1.   There is a significant difference in average price between tech and non-tech cities, so businesses looking to sell avocado products should open in tech cities as consumers are willing to pay more.\n",
        "2.   Although there was no significant difference in percent change of volume between organic and conventional avocados, volume growth is consistent showing opportunity for market entry across the U.S\n",
        "3.   Given higher total volume in conventional avocado sales, new businesses should focus on conventional avocado sales in tech cities\n",
        "\n"
      ]
    }
  ]
}